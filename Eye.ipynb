{
 "cells": [
  {
   "cell_type": "code",
   "execution_count": null,
   "id": "c6057aca-de4c-4c23-a6f9-17d8441e1203",
   "metadata": {},
   "outputs": [],
   "source": [
    "import cv2\n",
    "import mediapipe as mp\n",
    "import pyautogui\n",
    "cam=cv2.VideoCapture(0)\n",
    "face_mesh=mp.solutions.face_mesh.FaceMesh(refine_landmarks=True)\n",
    "screen_w,screen_h=pyautogui.size()\n",
    "while True:\n",
    "    _,frame=cam.read()\n",
    "    frame=cv2.flip(frame,1)\n",
    "    rgb_frame=cv2.cvtColor(frame,cv2.COLOR_BGR2RGB)\n",
    "    output=face_mesh.process(rgb_frame)\n",
    "    landmark_points=output.multi_face_landmarks\n",
    "    frame_h,frame_w,_=frame.shape\n",
    "    if landmark_points:\n",
    "        landmarks=landmark_points[0].landmark\n",
    "        for id, landmark in enumerate(landmarks[474:478]):\n",
    "            x=int(landmark.x*frame_w)\n",
    "            y=int(landmark.y*frame_h)\n",
    "            cv2.circle(frame,(x,y),3,(0,255,0))\n",
    "            if id==1:\n",
    "                screen_x=screen_w/frame_w*x\n",
    "                screen_y=screen_h/frame_h*y\n",
    "                pyautogui.moveTo(screen_x,screen_y)\n",
    "        left=[landmarks[145],landmarks[159]]\n",
    "        for landmark in left:\n",
    "            x=int(landmark.x*frame_w)\n",
    "            y=int(landmark.y*frame_h)\n",
    "            cv2.circle(frame,(x,y),3,(0,255,255))\n",
    "        # print(left[0].y, left[1].y, \"Diff:\", abs(left[0].y - left[1].y))\n",
    "        \n",
    "    \n",
    "        if abs(left[0].y - left[1].y) < 0.02:\n",
    "            pyautogui.click()\n",
    "            pyautogui.sleep(1)\n",
    "\n",
    "    cv2.imshow(\"Eye controlled mouse\",frame)\n",
    "    if cv2.waitKey(1) & 0xFF == ord('q'):\n",
    "        break\n",
    "\n",
    "# 🔴 Release the camera\n",
    "cam.release()\n",
    "\n",
    "# 🔴 Close any OpenCV windows\n",
    "cv2.destroyAllWindows()\n"
   ]
  },
  {
   "cell_type": "code",
   "execution_count": null,
   "id": "54f1db67-1ded-4c41-ac18-4f564224c27a",
   "metadata": {},
   "outputs": [],
   "source": []
  },
  {
   "cell_type": "code",
   "execution_count": null,
   "id": "f49927e6-cc4e-4d6c-bab8-e991409370cd",
   "metadata": {},
   "outputs": [],
   "source": []
  }
 ],
 "metadata": {
  "kernelspec": {
   "display_name": "Python (mediapipe_env)",
   "language": "python",
   "name": "mediapipe_env"
  },
  "language_info": {
   "codemirror_mode": {
    "name": "ipython",
    "version": 3
   },
   "file_extension": ".py",
   "mimetype": "text/x-python",
   "name": "python",
   "nbconvert_exporter": "python",
   "pygments_lexer": "ipython3",
   "version": "3.10.18"
  }
 },
 "nbformat": 4,
 "nbformat_minor": 5
}
