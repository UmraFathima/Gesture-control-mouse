{
 "cells": [
  {
   "cell_type": "code",
   "execution_count": 30,
   "id": "4e7dccaa-fb67-4da3-a0b8-42e65c4f515b",
   "metadata": {},
   "outputs": [
    {
     "name": "stdout",
     "output_type": "stream",
     "text": [
      "✅ All working!\n",
      "Requirement already satisfied: pyautogui in c:\\users\\umraf\\.conda\\envs\\mediapipe_envv\\lib\\site-packages (0.9.54)\n",
      "Requirement already satisfied: pymsgbox in c:\\users\\umraf\\.conda\\envs\\mediapipe_envv\\lib\\site-packages (from pyautogui) (1.0.9)\n",
      "Requirement already satisfied: pytweening>=1.0.4 in c:\\users\\umraf\\.conda\\envs\\mediapipe_envv\\lib\\site-packages (from pyautogui) (1.2.0)\n",
      "Requirement already satisfied: pyscreeze>=0.1.21 in c:\\users\\umraf\\.conda\\envs\\mediapipe_envv\\lib\\site-packages (from pyautogui) (1.0.1)\n",
      "Requirement already satisfied: pygetwindow>=0.0.5 in c:\\users\\umraf\\.conda\\envs\\mediapipe_envv\\lib\\site-packages (from pyautogui) (0.0.9)\n",
      "Requirement already satisfied: mouseinfo in c:\\users\\umraf\\.conda\\envs\\mediapipe_envv\\lib\\site-packages (from pyautogui) (0.1.3)\n",
      "Requirement already satisfied: pyrect in c:\\users\\umraf\\.conda\\envs\\mediapipe_envv\\lib\\site-packages (from pygetwindow>=0.0.5->pyautogui) (0.2.0)\n",
      "Requirement already satisfied: Pillow>=9.2.0 in c:\\users\\umraf\\appdata\\roaming\\python\\python310\\site-packages (from pyscreeze>=0.1.21->pyautogui) (11.3.0)\n",
      "Requirement already satisfied: pyperclip in c:\\users\\umraf\\.conda\\envs\\mediapipe_envv\\lib\\site-packages (from mouseinfo->pyautogui) (1.9.0)\n",
      "Note: you may need to restart the kernel to use updated packages.\n",
      "Requirement already satisfied: pynput in c:\\users\\umraf\\.conda\\envs\\mediapipe_envv\\lib\\site-packages (1.8.1)Note: you may need to restart the kernel to use updated packages.\n",
      "\n",
      "Requirement already satisfied: six in c:\\users\\umraf\\appdata\\roaming\\python\\python310\\site-packages (from pynput) (1.17.0)\n"
     ]
    }
   ],
   "source": [
    "import mediapipe as mp\n",
    "import cv2\n",
    "print(\"✅ All working!\")\n",
    "import util\n",
    "%pip install pyautogui\n",
    "import pyautogui\n",
    "%pip install pynput\n",
    "from pynput.mouse import Button,Controller\n",
    "mouse=Controller()\n",
    "import random"
   ]
  },
  {
   "cell_type": "code",
   "execution_count": 31,
   "id": "64698ed4-b7eb-494a-8247-51b55564b935",
   "metadata": {},
   "outputs": [],
   "source": [
    "# mpHand"
   ]
  },
  {
   "cell_type": "code",
   "execution_count": 32,
   "id": "a8ae179b-aa36-4e37-914e-ab9ecb5f0e56",
   "metadata": {},
   "outputs": [],
   "source": [
    "screen_width,screen_height=pyautogui.size()\n",
    "mpHands=mp.solutions.hands\n",
    "hands=mpHands.Hands(\n",
    "    static_image_mode=False,\n",
    "    model_complexity=1,\n",
    "    max_num_hands=1,\n",
    "    min_detection_confidence=0.7,\n",
    "    min_tracking_confidence=0.7\n",
    ")"
   ]
  },
  {
   "cell_type": "code",
   "execution_count": 33,
   "id": "f980aafb-5003-4338-94c2-91687d302c62",
   "metadata": {},
   "outputs": [],
   "source": [
    "def find_finger_tip(processed):\n",
    "  if processed.multi_hand_landmarks:\n",
    "    hand_landmarks=processed.multi_hand_landmarks[0]\n",
    "    return hand_landmarks.landmark[mpHands.HandLandmark.INDEX_FINGER_TIP]\n",
    "                                   \n",
    "  return none"
   ]
  },
  {
   "cell_type": "code",
   "execution_count": 34,
   "id": "55b4a26c-47b9-49bd-a2ab-c8a03a27a4f3",
   "metadata": {},
   "outputs": [],
   "source": [
    "\n",
    "def move_mouse(index_finger_tip):\n",
    "    if index_finger_tip is not None:\n",
    "        x=int(index_finger_tip.x *screen_width)\n",
    "        y=int(index_finger_tip.y *screen_height)\n",
    "        pyautogui.moveTo(x,y)"
   ]
  },
  {
   "cell_type": "code",
   "execution_count": 35,
   "id": "e3787aff-ebf3-4702-8375-0c1d29a6547d",
   "metadata": {},
   "outputs": [],
   "source": [
    "def is_left_click(landmarks_list,thumb_index_dist):\n",
    "    return (util.get_angle(landmarks_list[5],landmarks_list[6],landmarks_list[8])<50 and\n",
    "            util.get_angle(landmarks_list[9],landmarks_list[10],landmarks_list[12])>90 and\n",
    "            thumb_index_dist>50\n",
    "           )\n",
    "def is_right_click(landmarks_list,thumb_index_dist):\n",
    "    return (util.get_angle(landmarks_list[9],landmarks_list[10],landmarks_list[12])<50 and\n",
    "            util.get_angle(landmarks_list[5],landmarks_list[6],landmarks_list[8])>90 and\n",
    "            thumb_index_dist>50\n",
    "           )\n",
    "def is_double_click(landmarks_list,thumb_index_dist):\n",
    "    return (util.get_angle(landmarks_list[5],landmarks_list[6],landmarks_list[8])<50 and\n",
    "            util.get_angle(landmarks_list[9],landmarks_list[10],landmarks_list[12])<50 and\n",
    "            thumb_index_dist>50\n",
    "           )\n",
    "def is_screenshot(landmarks_list,thumb_index_dist):\n",
    "    return (util.get_angle(landmarks_list[5],landmarks_list[6],landmarks_list[8])<50 and\n",
    "            util.get_angle(landmarks_list[9],landmarks_list[10],landmarks_list[12])<50 and\n",
    "            thumb_index_dist<50\n",
    "           )"
   ]
  },
  {
   "cell_type": "code",
   "execution_count": 36,
   "id": "3f462efc-a6ff-41d0-b8b1-abf90912cfb6",
   "metadata": {},
   "outputs": [],
   "source": [
    "def detect_gesture(frame,landmarks_list,processed):\n",
    "  if len(landmarks_list)>=21:\n",
    "    index_finger_tip=find_finger_tip(processed)\n",
    "    thumb_index_dist=util.get_distance([landmarks_list[4],landmarks_list[5]])\n",
    "    if thumb_index_dist<50 and util.get_angle(landmarks_list[5],landmarks_list[6],landmarks_list[8])>90:\n",
    "        move_mouse(index_finger_tip)\n",
    "\n",
    "    elif is_left_click(landmarks_list,thumb_index_dist):\n",
    "        mouse.press(Button.left)\n",
    "        mouse.release(Button.left)\n",
    "        cv2.putText(frame,\"Left Click\",(50,50),cv2.FONT_HERSHEY_SIMPLEX,1,(0,225,0),2)\n",
    "        \n",
    "    elif is_right_click(landmarks_list,thumb_index_dist):\n",
    "        mouse.press(Button.right)\n",
    "        mouse.release(Button.right)\n",
    "        cv2.putText(frame,\"Right Click\",(50,50),cv2.FONT_HERSHEY_SIMPLEX,1,(0,225,0),2)\n",
    "\n",
    "    elif is_double_click(landmarks_list,thumb_index_dist):\n",
    "        pyautogui.doubleClick()\n",
    "        cv2.putText(frame,\"Double Click\",(50,50),cv2.FONT_HERSHEY_SIMPLEX,1,(225,225,0),2)\n",
    "\n",
    "    elif is_screenshot(landmarks_list,thumb_index_dist):\n",
    "        im1=pyautogui.screenshot()\n",
    "        label=random.randint(1,1000)\n",
    "        im1.save(f'my_screenshot_{label}.png')\n",
    "        cv2.putText(frame,\"Screenshot Taken\",(50,50),cv2.FONT_HERSHEY_SIMPLEX,1,(255,255,0),2)\n",
    "    "
   ]
  },
  {
   "cell_type": "code",
   "execution_count": 37,
   "id": "7ae2a7d7-3444-4140-9502-5bcef4707c78",
   "metadata": {},
   "outputs": [],
   "source": [
    "def main():\n",
    "  cap=cv2.VideoCapture(0)\n",
    "  draw=mp.solutions.drawing_utils\n",
    "  try:\n",
    "    while cap.isOpened():\n",
    "      ret,frame=cap.read()\n",
    "      if not ret:\n",
    "        break\n",
    "      frame=cv2.flip(frame,1)\n",
    "      frameRGB=cv2.cvtColor(frame,cv2.COLOR_BGR2RGB)\n",
    "      processed=hands.process(frameRGB)\n",
    "      landmarks_list=[]\n",
    "      if processed.multi_hand_landmarks:\n",
    "        hand_landmarks= processed.multi_hand_landmarks[0]\n",
    "        draw.draw_landmarks(frame,hand_landmarks,mpHands.HAND_CONNECTIONS)\n",
    "        for lm in hand_landmarks.landmark:\n",
    "          landmarks_list.append((lm.x,lm.y))\n",
    "      detect_gesture(frame,landmarks_list,processed)\n",
    "        # print(landmarks_list)\n",
    "      cv2.imshow('frame',frame)\n",
    "      if cv2.waitKey(1) & 0xFF==ord('q'):\n",
    "        break\n",
    "  finally:\n",
    "    cap.release()\n",
    "    cv2.destroyAllWindows()\n",
    "\n",
    "if __name__ == '__main__':\n",
    "  main()\n"
   ]
  },
  {
   "cell_type": "code",
   "execution_count": null,
   "id": "e3f175eb-42b4-424c-984b-ee42e36ce12f",
   "metadata": {},
   "outputs": [],
   "source": []
  }
 ],
 "metadata": {
  "kernelspec": {
   "display_name": "Python (mediapipe_env)",
   "language": "python",
   "name": "mediapipe_env"
  },
  "language_info": {
   "codemirror_mode": {
    "name": "ipython",
    "version": 3
   },
   "file_extension": ".py",
   "mimetype": "text/x-python",
   "name": "python",
   "nbconvert_exporter": "python",
   "pygments_lexer": "ipython3",
   "version": "3.10.18"
  }
 },
 "nbformat": 4,
 "nbformat_minor": 5
}
